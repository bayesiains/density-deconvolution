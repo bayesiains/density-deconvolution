{
 "cells": [
  {
   "cell_type": "code",
   "execution_count": 1,
   "metadata": {},
   "outputs": [],
   "source": [
    "import numpy as np\n",
    "import torch\n",
    "\n",
    "import matplotlib\n",
    "import matplotlib.pyplot as plt\n",
    "%matplotlib widget\n",
    "\n",
    "import corner\n",
    "\n",
    "import seaborn as sns\n",
    "sns.set()"
   ]
  },
  {
   "cell_type": "code",
   "execution_count": 2,
   "metadata": {},
   "outputs": [
    {
     "data": {
      "application/vnd.jupyter.widget-view+json": {
       "model_id": "3805dbc1587c4aa79652031ab16e8194",
       "version_major": 2,
       "version_minor": 0
      },
      "text/plain": [
       "Canvas(toolbar=Toolbar(toolitems=[('Home', 'Reset original view', 'home', 'home'), ('Back', 'Back to previous …"
      ]
     },
     "metadata": {},
     "output_type": "display_data"
    },
    {
     "data": {
      "text/plain": [
       "Text(0.5, 1.0, '$P(\\\\mathbf{z})$')"
      ]
     },
     "execution_count": 2,
     "metadata": {},
     "output_type": "execute_result"
    }
   ],
   "source": [
    "means = torch.Tensor([\n",
    "    [0.0, 0.0],\n",
    "    [2, 3],\n",
    "    [2, -3]\n",
    "])\n",
    "covars = torch.Tensor([\n",
    "    [\n",
    "        [0.1, 0],\n",
    "        [0, 1.5]\n",
    "    ],\n",
    "    [\n",
    "        [1, 0],\n",
    "        [0, 0.1]\n",
    "    ],\n",
    "    [\n",
    "        [1, 0],\n",
    "        [0, 0.1]\n",
    "    ]\n",
    "])\n",
    "\n",
    "Z = torch.distributions.MultivariateNormal(loc=means, covariance_matrix=covars).sample((100000,)).reshape((-1, 2))\n",
    "idx = torch.randperm(Z.shape[0])\n",
    "Z = Z[idx]\n",
    "Z_train = Z[:Z.shape[0] // 2]\n",
    "Z_test = Z[Z.shape[0] // 2:]\n",
    "\n",
    "x_lim = (-2, 6)\n",
    "y_lim = (-6, 6)\n",
    "\n",
    "fig, ax = plt.subplots()\n",
    "corner.hist2d(Z_train[:, 0].numpy(), Z_train[:, 1].numpy(), ax=ax)\n",
    "ax.set_xlim(x_lim)\n",
    "ax.set_ylim(y_lim)\n",
    "ax.set_title(r'$P(\\mathbf{z})$')"
   ]
  },
  {
   "cell_type": "code",
   "execution_count": 3,
   "metadata": {},
   "outputs": [
    {
     "data": {
      "application/vnd.jupyter.widget-view+json": {
       "model_id": "df5946dda00a4aefa884117b08479750",
       "version_major": 2,
       "version_minor": 0
      },
      "text/plain": [
       "Canvas(toolbar=Toolbar(toolitems=[('Home', 'Reset original view', 'home', 'home'), ('Back', 'Back to previous …"
      ]
     },
     "metadata": {},
     "output_type": "display_data"
    },
    {
     "data": {
      "text/plain": [
       "Text(0.5, 1.0, '$P(\\\\mathbf{x})$')"
      ]
     },
     "execution_count": 3,
     "metadata": {},
     "output_type": "execute_result"
    }
   ],
   "source": [
    "S = torch.Tensor([\n",
    "    [0.1, 0],\n",
    "    [0, 3]\n",
    "])\n",
    "X = Z + torch.distributions.MultivariateNormal(loc=torch.Tensor([0.0, 0.0]), covariance_matrix=S).sample((Z.shape[0],))\n",
    "X_train = X[:X.shape[0] // 2]\n",
    "X_test = X[X.shape[0] // 2:]\n",
    "\n",
    "fig, ax = plt.subplots()\n",
    "corner.hist2d(X_train[:, 0].numpy(), X_train[:, 1].numpy())\n",
    "ax.set_xlim(x_lim)\n",
    "ax.set_ylim(y_lim)\n",
    "ax.set_title(r'$P(\\mathbf{x})$')"
   ]
  },
  {
   "cell_type": "code",
   "execution_count": 4,
   "metadata": {},
   "outputs": [],
   "source": [
    "from deconv.gmm.data import DeconvDataset\n",
    "\n",
    "train_data = DeconvDataset(X_train, torch.cholesky(S.repeat(X_train.shape[0], 1, 1)))\n",
    "test_data = DeconvDataset(X_test, torch.cholesky(S.repeat(X_test.shape[0], 1, 1)))"
   ]
  },
  {
   "cell_type": "code",
   "execution_count": 5,
   "metadata": {},
   "outputs": [
    {
     "name": "stdout",
     "output_type": "stream",
     "text": [
      "Stating minibatch_k_means\n",
      "Iter: 0\n",
      "Iter: 1\n",
      "Iter: 2\n"
     ]
    },
    {
     "name": "stderr",
     "output_type": "stream",
     "text": [
      "ERROR:root:Internal Python error in the inspect module.\n",
      "Below is the traceback from this internal error.\n",
      "\n"
     ]
    },
    {
     "name": "stdout",
     "output_type": "stream",
     "text": [
      "Traceback (most recent call last):\n",
      "  File \"/home/s0904254/miniconda3/envs/deconv/lib/python3.7/site-packages/IPython/core/interactiveshell.py\", line 3331, in run_code\n",
      "    exec(code_obj, self.user_global_ns, self.user_ns)\n",
      "  File \"<ipython-input-5-c4aeef55f169>\", line 11, in <module>\n",
      "    gmm.fit(train_data, verbose=True)\n",
      "  File \"/mnt/cdtds_cluster_home/s0904254/xd/extreme-deconvolution/deconv/gmm/sgd_gmm.py\", line 150, in fit\n",
      "    self.init_params(loader)\n",
      "  File \"/mnt/cdtds_cluster_home/s0904254/xd/extreme-deconvolution/deconv/gmm/sgd_gmm.py\", line 243, in init_params\n",
      "    counts, centroids = minibatch_k_means(loader, self.k, max_iters=self.k_means_iters, device=self.device)\n",
      "  File \"/mnt/cdtds_cluster_home/s0904254/xd/extreme-deconvolution/deconv/gmm/util.py\", line 50, in minibatch_k_means\n",
      "    for d in loader:\n",
      "  File \"/home/s0904254/miniconda3/envs/deconv/lib/python3.7/site-packages/torch/utils/data/dataloader.py\", line 345, in __next__\n",
      "    data = self._next_data()\n",
      "  File \"/home/s0904254/miniconda3/envs/deconv/lib/python3.7/site-packages/torch/utils/data/dataloader.py\", line 385, in _next_data\n",
      "    data = self._dataset_fetcher.fetch(index)  # may raise StopIteration\n",
      "  File \"/home/s0904254/miniconda3/envs/deconv/lib/python3.7/site-packages/torch/utils/data/_utils/fetch.py\", line 44, in fetch\n",
      "    data = [self.dataset[idx] for idx in possibly_batched_index]\n",
      "  File \"/home/s0904254/miniconda3/envs/deconv/lib/python3.7/site-packages/torch/utils/data/_utils/fetch.py\", line 44, in <listcomp>\n",
      "    data = [self.dataset[idx] for idx in possibly_batched_index]\n",
      "  File \"/mnt/cdtds_cluster_home/s0904254/xd/extreme-deconvolution/deconv/gmm/data.py\", line 17, in __getitem__\n",
      "    return (self.X[i, :], self.noise_covars[i, :, :])\n",
      "KeyboardInterrupt\n",
      "\n",
      "During handling of the above exception, another exception occurred:\n",
      "\n",
      "Traceback (most recent call last):\n",
      "  File \"/home/s0904254/miniconda3/envs/deconv/lib/python3.7/site-packages/IPython/core/interactiveshell.py\", line 2044, in showtraceback\n",
      "    stb = value._render_traceback_()\n",
      "AttributeError: 'KeyboardInterrupt' object has no attribute '_render_traceback_'\n",
      "\n",
      "During handling of the above exception, another exception occurred:\n",
      "\n",
      "Traceback (most recent call last):\n",
      "  File \"/home/s0904254/miniconda3/envs/deconv/lib/python3.7/site-packages/IPython/core/ultratb.py\", line 1148, in get_records\n",
      "    return _fixed_getinnerframes(etb, number_of_lines_of_context, tb_offset)\n",
      "  File \"/home/s0904254/miniconda3/envs/deconv/lib/python3.7/site-packages/IPython/core/ultratb.py\", line 316, in wrapped\n",
      "    return f(*args, **kwargs)\n",
      "  File \"/home/s0904254/miniconda3/envs/deconv/lib/python3.7/site-packages/IPython/core/ultratb.py\", line 350, in _fixed_getinnerframes\n",
      "    records = fix_frame_records_filenames(inspect.getinnerframes(etb, context))\n",
      "  File \"/home/s0904254/miniconda3/envs/deconv/lib/python3.7/inspect.py\", line 1502, in getinnerframes\n",
      "    frameinfo = (tb.tb_frame,) + getframeinfo(tb, context)\n",
      "  File \"/home/s0904254/miniconda3/envs/deconv/lib/python3.7/inspect.py\", line 1460, in getframeinfo\n",
      "    filename = getsourcefile(frame) or getfile(frame)\n",
      "  File \"/home/s0904254/miniconda3/envs/deconv/lib/python3.7/inspect.py\", line 696, in getsourcefile\n",
      "    if getattr(getmodule(object, filename), '__loader__', None) is not None:\n",
      "  File \"/home/s0904254/miniconda3/envs/deconv/lib/python3.7/inspect.py\", line 739, in getmodule\n",
      "    f = getabsfile(module)\n",
      "  File \"/home/s0904254/miniconda3/envs/deconv/lib/python3.7/inspect.py\", line 708, in getabsfile\n",
      "    _filename = getsourcefile(object) or getfile(object)\n",
      "  File \"/home/s0904254/miniconda3/envs/deconv/lib/python3.7/inspect.py\", line 693, in getsourcefile\n",
      "    if os.path.exists(filename):\n",
      "  File \"/home/s0904254/miniconda3/envs/deconv/lib/python3.7/genericpath.py\", line 19, in exists\n",
      "    os.stat(path)\n",
      "KeyboardInterrupt\n"
     ]
    },
    {
     "ename": "KeyboardInterrupt",
     "evalue": "",
     "output_type": "error",
     "traceback": [
      "\u001b[0;31m---------------------------------------------------------------------------\u001b[0m"
     ]
    }
   ],
   "source": [
    "from deconv.gmm.sgd_deconv_gmm import SGDDeconvGMM\n",
    "\n",
    "gmm = SGDDeconvGMM(\n",
    "    3,\n",
    "    2,\n",
    "    batch_size=200,\n",
    "    lr=1e-1,\n",
    "    epochs=100,\n",
    "    device=torch.device('cuda')\n",
    ")\n",
    "gmm.fit(train_data, verbose=True)"
   ]
  },
  {
   "cell_type": "code",
   "execution_count": 6,
   "metadata": {},
   "outputs": [
    {
     "data": {
      "text/plain": [
       "torch.Size([2, 2])"
      ]
     },
     "execution_count": 6,
     "metadata": {},
     "output_type": "execute_result"
    }
   ],
   "source": [
    "S.shape"
   ]
  },
  {
   "cell_type": "code",
   "execution_count": 12,
   "metadata": {
    "scrolled": true
   },
   "outputs": [],
   "source": [
    "from deconv.flow.svi import SVIFlow\n",
    "svi = SVIFlow(\n",
    "    2,\n",
    "    5,\n",
    "    device=torch.device('cuda'),\n",
    "    batch_size=512,\n",
    "    epochs=20,\n",
    "    lr=1e-4,\n",
    "    n_samples=50,\n",
    "    use_iwae=False\n",
    ")"
   ]
  },
  {
   "cell_type": "code",
   "execution_count": 20,
   "metadata": {},
   "outputs": [
    {
     "name": "stdout",
     "output_type": "stream",
     "text": [
      "Epoch 0, Train Loss: -4.098158260091146\n",
      "Epoch 1, Train Loss: -4.092337828776041\n",
      "Epoch 2, Train Loss: -4.092128470052083\n",
      "Epoch 3, Train Loss: -4.091051175944011\n",
      "Epoch 4, Train Loss: -4.089471376953125\n",
      "Epoch 5, Train Loss: -4.090663575032552\n",
      "Epoch 6, Train Loss: -4.089579794108073\n",
      "Epoch 7, Train Loss: -4.0890384049479165\n",
      "Epoch 8, Train Loss: -4.089071686197917\n",
      "Epoch 9, Train Loss: -4.088573410644531\n",
      "Epoch 10, Train Loss: -4.08755037109375\n",
      "Epoch 11, Train Loss: -4.087555048014323\n",
      "Epoch 12, Train Loss: -4.0872225813802086\n",
      "Epoch 13, Train Loss: -4.086628002929688\n",
      "Epoch 14, Train Loss: -4.086408982747396\n",
      "Epoch 15, Train Loss: -4.087736219889323\n",
      "Epoch 16, Train Loss: -4.08664162109375\n",
      "Epoch 17, Train Loss: -4.085366465657552\n",
      "Epoch 18, Train Loss: -4.086735221354167\n",
      "Epoch 19, Train Loss: -4.0859524690755205\n"
     ]
    }
   ],
   "source": [
    "svi.fit(train_data, val_data=None)"
   ]
  },
  {
   "cell_type": "code",
   "execution_count": 18,
   "metadata": {},
   "outputs": [
    {
     "data": {
      "application/vnd.jupyter.widget-view+json": {
       "model_id": "61f2412e0dea43b790b83d17a9fc0458",
       "version_major": 2,
       "version_minor": 0
      },
      "text/plain": [
       "Canvas(toolbar=Toolbar(toolitems=[('Home', 'Reset original view', 'home', 'home'), ('Back', 'Back to previous …"
      ]
     },
     "metadata": {},
     "output_type": "display_data"
    },
    {
     "data": {
      "text/plain": [
       "Text(0.5, 1.0, 'Prior fitted with ELBO')"
      ]
     },
     "execution_count": 18,
     "metadata": {},
     "output_type": "execute_result"
    }
   ],
   "source": [
    "torch.set_default_tensor_type('torch.cuda.FloatTensor')\n",
    "prior_samples = svi.sample_prior(10000)\n",
    "\n",
    "fig, ax = plt.subplots()\n",
    "corner.hist2d(prior_samples[0, :, 0].numpy(), prior_samples[0, :, 1].numpy(), ax=ax)\n",
    "ax.set_xlim(x_lim)\n",
    "ax.set_ylim(y_lim)\n",
    "ax.set_title('Prior fitted with ELBO')"
   ]
  },
  {
   "cell_type": "code",
   "execution_count": 19,
   "metadata": {},
   "outputs": [
    {
     "data": {
      "application/vnd.jupyter.widget-view+json": {
       "model_id": "d259af1a72cd465a9627576c5df3b92b",
       "version_major": 2,
       "version_minor": 0
      },
      "text/plain": [
       "Canvas(toolbar=Toolbar(toolitems=[('Home', 'Reset original view', 'home', 'home'), ('Back', 'Back to previous …"
      ]
     },
     "metadata": {},
     "output_type": "display_data"
    },
    {
     "data": {
      "text/plain": [
       "Text(0.5, 1.0, 'Recognition network samples for test point, fitted using ELBO.')"
      ]
     },
     "execution_count": 19,
     "metadata": {},
     "output_type": "execute_result"
    }
   ],
   "source": [
    "mean = np.array([[3.0, 0.0], [0.0, 0.0]])\n",
    "cov = np.array([\n",
    "    [\n",
    "        [0.1, 0],\n",
    "        [0, 3]\n",
    "    ],\n",
    "    [\n",
    "        [0.1, 0],\n",
    "        [0, 3]\n",
    "    ]\n",
    "])\n",
    "test_point = [\n",
    "    torch.Tensor(mean).to(svi.device),\n",
    "    torch.cholesky(torch.Tensor(cov)).to(svi.device)\n",
    "]\n",
    "torch.set_default_tensor_type('torch.cuda.FloatTensor')\n",
    "posterior_samples = svi.resample_posterior(test_point, 10000)\n",
    "\n",
    "from deconv.gmm.plotting import plot_covariance\n",
    "fig, ax = plt.subplots()\n",
    "corner.hist2d(posterior_samples[0, :, 0].numpy(), posterior_samples[0, :, 1].numpy(), ax=ax)\n",
    "ax.set_xlim(x_lim)\n",
    "ax.set_ylim(y_lim)\n",
    "plot_covariance(\n",
    "    mean[0],\n",
    "    cov[0],\n",
    "    ax=ax,\n",
    "    color='r'\n",
    ")\n",
    "ax.set_xlim(x_lim)\n",
    "ax.set_ylim(y_lim)\n",
    "ax.set_title('Recognition network samples for test point, fitted using ELBO.')"
   ]
  },
  {
   "cell_type": "code",
   "execution_count": null,
   "metadata": {},
   "outputs": [],
   "source": [
    "rsamples = svi.resample_posterior(test_point, 10000)\n",
    "\n",
    "fig, ax = plt.subplots()\n",
    "corner.hist2d(rsamples[0, :, 0].cpu().numpy(), rsamples[0, :, 1].cpu().numpy(), ax=ax)\n",
    "ax.set_xlim(x_lim)\n",
    "ax.set_ylim(y_lim)\n",
    "plot_covariance(\n",
    "    mean[0],\n",
    "    cov[0],\n",
    "    ax=ax,\n",
    "    color='r'\n",
    ")\n",
    "ax.set_xlim(x_lim)\n",
    "ax.set_ylim(y_lim)\n",
    "ax.set_title('Resampled posterior for test point, fitted using ELBO.')"
   ]
  },
  {
   "cell_type": "code",
   "execution_count": null,
   "metadata": {},
   "outputs": [],
   "source": []
  }
 ],
 "metadata": {
  "kernelspec": {
   "display_name": "Python 3",
   "language": "python",
   "name": "python3"
  },
  "language_info": {
   "codemirror_mode": {
    "name": "ipython",
    "version": 3
   },
   "file_extension": ".py",
   "mimetype": "text/x-python",
   "name": "python",
   "nbconvert_exporter": "python",
   "pygments_lexer": "ipython3",
   "version": "3.7.7"
  }
 },
 "nbformat": 4,
 "nbformat_minor": 4
}
