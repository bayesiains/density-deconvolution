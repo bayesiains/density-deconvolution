{
 "cells": [
  {
   "cell_type": "code",
   "execution_count": 1,
   "metadata": {},
   "outputs": [],
   "source": [
    "import numpy as np\n",
    "import torch\n",
    "\n",
    "import matplotlib\n",
    "import matplotlib.pyplot as plt\n",
    "%matplotlib widget\n",
    "\n",
    "import corner\n",
    "\n",
    "import seaborn as sns\n",
    "sns.set()"
   ]
  },
  {
   "cell_type": "code",
   "execution_count": 2,
   "metadata": {},
   "outputs": [
    {
     "data": {
      "application/vnd.jupyter.widget-view+json": {
       "model_id": "dc904aa1546c4bdf878125e9fd71ccc5",
       "version_major": 2,
       "version_minor": 0
      },
      "text/plain": [
       "Canvas(toolbar=Toolbar(toolitems=[('Home', 'Reset original view', 'home', 'home'), ('Back', 'Back to previous …"
      ]
     },
     "metadata": {},
     "output_type": "display_data"
    },
    {
     "data": {
      "text/plain": [
       "Text(0.5, 1.0, '$P(\\\\mathbf{z})$')"
      ]
     },
     "execution_count": 2,
     "metadata": {},
     "output_type": "execute_result"
    }
   ],
   "source": [
    "means = torch.Tensor([\n",
    "    [0.0, 0.0],\n",
    "    [2, 3],\n",
    "    [2, -3]\n",
    "])\n",
    "covars = torch.Tensor([\n",
    "    [\n",
    "        [0.1, 0],\n",
    "        [0, 1.5]\n",
    "    ],\n",
    "    [\n",
    "        [1, 0],\n",
    "        [0, 0.1]\n",
    "    ],\n",
    "    [\n",
    "        [1, 0],\n",
    "        [0, 0.1]\n",
    "    ]\n",
    "])\n",
    "\n",
    "Z = torch.distributions.MultivariateNormal(loc=means, covariance_matrix=covars).sample((50000,)).reshape((-1, 2))\n",
    "idx = torch.randperm(Z.shape[0])\n",
    "Z = Z[idx]\n",
    "Z_train = Z[:Z.shape[0] // 2]\n",
    "Z_test = Z[Z.shape[0] // 2:]\n",
    "\n",
    "x_lim = (-2, 6)\n",
    "y_lim = (-6, 6)\n",
    "\n",
    "fig, ax = plt.subplots()\n",
    "corner.hist2d(Z_train[:, 0].numpy(), Z_train[:, 1].numpy(), ax=ax)\n",
    "ax.set_xlim(x_lim)\n",
    "ax.set_ylim(y_lim)\n",
    "ax.set_title(r'$P(\\mathbf{z})$')"
   ]
  },
  {
   "cell_type": "code",
   "execution_count": 3,
   "metadata": {},
   "outputs": [
    {
     "data": {
      "application/vnd.jupyter.widget-view+json": {
       "model_id": "3cb44768d1ce44dda3c763a22b629513",
       "version_major": 2,
       "version_minor": 0
      },
      "text/plain": [
       "Canvas(toolbar=Toolbar(toolitems=[('Home', 'Reset original view', 'home', 'home'), ('Back', 'Back to previous …"
      ]
     },
     "metadata": {},
     "output_type": "display_data"
    },
    {
     "data": {
      "text/plain": [
       "Text(0.5, 1.0, '$P(\\\\mathbf{x})$')"
      ]
     },
     "execution_count": 3,
     "metadata": {},
     "output_type": "execute_result"
    }
   ],
   "source": [
    "S = torch.Tensor([\n",
    "    [0.1, 0],\n",
    "    [0, 3]\n",
    "])\n",
    "X = Z + torch.distributions.MultivariateNormal(loc=torch.Tensor([0.0, 0.0]), covariance_matrix=S).sample((Z.shape[0],))\n",
    "X_train = X[:X.shape[0] // 2]\n",
    "X_test = X[X.shape[0] // 2:]\n",
    "\n",
    "fig, ax = plt.subplots()\n",
    "corner.hist2d(X_train[:, 0].numpy(), X_train[:, 1].numpy())\n",
    "ax.set_xlim(x_lim)\n",
    "ax.set_ylim(y_lim)\n",
    "ax.set_title(r'$P(\\mathbf{x})$')"
   ]
  },
  {
   "cell_type": "code",
   "execution_count": 4,
   "metadata": {},
   "outputs": [],
   "source": [
    "from deconv.gmm.data import DeconvDataset\n",
    "\n",
    "train_data = DeconvDataset(X_train, torch.cholesky(S.repeat(X_train.shape[0], 1, 1)))\n",
    "test_data = DeconvDataset(X_test, torch.cholesky(S.repeat(X_test.shape[0], 1, 1)))"
   ]
  },
  {
   "cell_type": "code",
   "execution_count": 5,
   "metadata": {
    "scrolled": true
   },
   "outputs": [],
   "source": [
    "from deconv.flow.svi import SVIFlow\n",
    "svi = SVIFlow(\n",
    "    2,\n",
    "    5,\n",
    "    device=torch.device('cuda'),\n",
    "    batch_size=512,\n",
    "    epochs=10,\n",
    "    lr=1e-4,\n",
    "    n_samples=50,\n",
    "    use_iwae=True\n",
    ")"
   ]
  },
  {
   "cell_type": "code",
   "execution_count": null,
   "metadata": {},
   "outputs": [
    {
     "name": "stdout",
     "output_type": "stream",
     "text": [
      "Epoch 0, Train Loss: -4.882514130859375\n",
      "Epoch 1, Train Loss: -4.107092342122396\n",
      "Epoch 2, Train Loss: -4.0849835546875\n"
     ]
    }
   ],
   "source": [
    "svi.fit(train_data, val_data=None)"
   ]
  },
  {
   "cell_type": "code",
   "execution_count": 7,
   "metadata": {},
   "outputs": [
    {
     "data": {
      "application/vnd.jupyter.widget-view+json": {
       "model_id": "3c781ec31432472ea1a8d6449954ce22",
       "version_major": 2,
       "version_minor": 0
      },
      "text/plain": [
       "Canvas(toolbar=Toolbar(toolitems=[('Home', 'Reset original view', 'home', 'home'), ('Back', 'Back to previous …"
      ]
     },
     "metadata": {},
     "output_type": "display_data"
    },
    {
     "data": {
      "text/plain": [
       "Text(0.5, 1.0, 'Prior')"
      ]
     },
     "execution_count": 7,
     "metadata": {},
     "output_type": "execute_result"
    }
   ],
   "source": [
    "torch.set_default_tensor_type('torch.cuda.FloatTensor')\n",
    "prior_samples = svi.sample_prior(10000)\n",
    "\n",
    "fig, ax = plt.subplots()\n",
    "corner.hist2d(prior_samples[0, :, 0].numpy(), prior_samples[0, :, 1].numpy(), ax=ax)\n",
    "ax.set_xlim(x_lim)\n",
    "ax.set_ylim(y_lim)\n",
    "ax.set_title('Prior')"
   ]
  },
  {
   "cell_type": "code",
   "execution_count": 8,
   "metadata": {},
   "outputs": [
    {
     "data": {
      "application/vnd.jupyter.widget-view+json": {
       "model_id": "d040b45beee9441b8981a7d3142505ca",
       "version_major": 2,
       "version_minor": 0
      },
      "text/plain": [
       "Canvas(toolbar=Toolbar(toolitems=[('Home', 'Reset original view', 'home', 'home'), ('Back', 'Back to previous …"
      ]
     },
     "metadata": {},
     "output_type": "display_data"
    },
    {
     "data": {
      "text/plain": [
       "Text(0.5, 1.0, 'Posterior for test point')"
      ]
     },
     "execution_count": 8,
     "metadata": {},
     "output_type": "execute_result"
    }
   ],
   "source": [
    "mean = np.array([[3.0, 0.0], [0.0, 0.0]])\n",
    "cov = np.array([\n",
    "    [\n",
    "        [0.1, 0],\n",
    "        [0, 3]\n",
    "    ],\n",
    "    [\n",
    "        [0.1, 0],\n",
    "        [0, 3]\n",
    "    ]\n",
    "])\n",
    "test_point = [\n",
    "    torch.Tensor(mean).to(svi.device),\n",
    "    torch.cholesky(torch.Tensor(cov)).to(svi.device)\n",
    "]\n",
    "torch.set_default_tensor_type('torch.cuda.FloatTensor')\n",
    "posterior_samples = svi.sample_posterior(test_point, 10000)\n",
    "\n",
    "from deconv.gmm.plotting import plot_covariance\n",
    "fig, ax = plt.subplots()\n",
    "corner.hist2d(posterior_samples[0, :, 0].numpy(), posterior_samples[0, :, 1].numpy(), ax=ax)\n",
    "ax.set_xlim(x_lim)\n",
    "ax.set_ylim(y_lim)\n",
    "plot_covariance(\n",
    "    mean[0],\n",
    "    cov[0],\n",
    "    ax=ax,\n",
    "    color='r'\n",
    ")\n",
    "ax.set_xlim(x_lim)\n",
    "ax.set_ylim(y_lim)\n",
    "ax.set_title('Posterior for test point')"
   ]
  },
  {
   "cell_type": "code",
   "execution_count": 9,
   "metadata": {},
   "outputs": [
    {
     "data": {
      "application/vnd.jupyter.widget-view+json": {
       "model_id": "765b5f2c5ecd45b98182007ec82460ae",
       "version_major": 2,
       "version_minor": 0
      },
      "text/plain": [
       "Canvas(toolbar=Toolbar(toolitems=[('Home', 'Reset original view', 'home', 'home'), ('Back', 'Back to previous …"
      ]
     },
     "metadata": {},
     "output_type": "display_data"
    },
    {
     "data": {
      "text/plain": [
       "Text(0.5, 1.0, 'Posterior for test point')"
      ]
     },
     "execution_count": 9,
     "metadata": {},
     "output_type": "execute_result"
    }
   ],
   "source": [
    "rsamples = svi.resample_posterior(test_point, 10000)\n",
    "\n",
    "fig, ax = plt.subplots()\n",
    "corner.hist2d(rsamples[0, :, 0].cpu().numpy(), rsamples[0, :, 1].cpu().numpy(), ax=ax)\n",
    "ax.set_xlim(x_lim)\n",
    "ax.set_ylim(y_lim)\n",
    "plot_covariance(\n",
    "    mean[0],\n",
    "    cov[0],\n",
    "    ax=ax,\n",
    "    color='r'\n",
    ")\n",
    "ax.set_xlim(x_lim)\n",
    "ax.set_ylim(y_lim)\n",
    "ax.set_title('Posterior for test point')"
   ]
  },
  {
   "cell_type": "code",
   "execution_count": null,
   "metadata": {},
   "outputs": [],
   "source": [
    "idx.shape"
   ]
  },
  {
   "cell_type": "code",
   "execution_count": null,
   "metadata": {},
   "outputs": [],
   "source": [
    "samples[torch.arange(2)[:, None, None], idx.T[:, :, None], torch.arange(2)[None, None, :]].shape"
   ]
  },
  {
   "cell_type": "code",
   "execution_count": null,
   "metadata": {},
   "outputs": [],
   "source": [
    "rsamples.squeeze().shape"
   ]
  },
  {
   "cell_type": "code",
   "execution_count": null,
   "metadata": {},
   "outputs": [],
   "source": [
    "samples.shape"
   ]
  },
  {
   "cell_type": "code",
   "execution_count": null,
   "metadata": {},
   "outputs": [],
   "source": [
    "np.newaxis"
   ]
  },
  {
   "cell_type": "code",
   "execution_count": null,
   "metadata": {},
   "outputs": [],
   "source": [
    "len(samples)"
   ]
  },
  {
   "cell_type": "code",
   "execution_count": null,
   "metadata": {},
   "outputs": [],
   "source": []
  }
 ],
 "metadata": {
  "kernelspec": {
   "display_name": "Python 3",
   "language": "python",
   "name": "python3"
  },
  "language_info": {
   "codemirror_mode": {
    "name": "ipython",
    "version": 3
   },
   "file_extension": ".py",
   "mimetype": "text/x-python",
   "name": "python",
   "nbconvert_exporter": "python",
   "pygments_lexer": "ipython3",
   "version": "3.7.7"
  }
 },
 "nbformat": 4,
 "nbformat_minor": 4
}
